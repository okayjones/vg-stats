{
 "metadata": {
  "language_info": {
   "codemirror_mode": {
    "name": "ipython",
    "version": 3
   },
   "file_extension": ".py",
   "mimetype": "text/x-python",
   "name": "python",
   "nbconvert_exporter": "python",
   "pygments_lexer": "ipython3",
   "version": "3.9.0-final"
  },
  "orig_nbformat": 2,
  "kernelspec": {
   "name": "python3",
   "display_name": "Python 3",
   "language": "python"
  }
 },
 "nbformat": 4,
 "nbformat_minor": 2,
 "cells": [
  {
   "source": [
    "# Data Analysis with Pandas\n",
    "## Video Game Sales\n",
    "### Logan Jones | Jan 19, 2021\n"
   ],
   "cell_type": "markdown",
   "metadata": {}
  },
  {
   "cell_type": "code",
   "execution_count": 1,
   "metadata": {},
   "outputs": [],
   "source": [
    "import pandas as pd"
   ]
  },
  {
   "cell_type": "code",
   "execution_count": 2,
   "metadata": {},
   "outputs": [
    {
     "output_type": "execute_result",
     "data": {
      "text/plain": [
       "   Rank                      Name Platform    Year         Genre Publisher  \\\n",
       "0     1                Wii Sports      Wii  2006.0        Sports  Nintendo   \n",
       "1     2         Super Mario Bros.      NES  1985.0      Platform  Nintendo   \n",
       "2     3            Mario Kart Wii      Wii  2008.0        Racing  Nintendo   \n",
       "3     4         Wii Sports Resort      Wii  2009.0        Sports  Nintendo   \n",
       "4     5  Pokemon Red/Pokemon Blue       GB  1996.0  Role-Playing  Nintendo   \n",
       "\n",
       "   NA_Sales  EU_Sales  JP_Sales  Other_Sales  Global_Sales  \n",
       "0     41.49     29.02      3.77         8.46         82.74  \n",
       "1     29.08      3.58      6.81         0.77         40.24  \n",
       "2     15.85     12.88      3.79         3.31         35.82  \n",
       "3     15.75     11.01      3.28         2.96         33.00  \n",
       "4     11.27      8.89     10.22         1.00         31.37  "
      ],
      "text/html": "<div>\n<style scoped>\n    .dataframe tbody tr th:only-of-type {\n        vertical-align: middle;\n    }\n\n    .dataframe tbody tr th {\n        vertical-align: top;\n    }\n\n    .dataframe thead th {\n        text-align: right;\n    }\n</style>\n<table border=\"1\" class=\"dataframe\">\n  <thead>\n    <tr style=\"text-align: right;\">\n      <th></th>\n      <th>Rank</th>\n      <th>Name</th>\n      <th>Platform</th>\n      <th>Year</th>\n      <th>Genre</th>\n      <th>Publisher</th>\n      <th>NA_Sales</th>\n      <th>EU_Sales</th>\n      <th>JP_Sales</th>\n      <th>Other_Sales</th>\n      <th>Global_Sales</th>\n    </tr>\n  </thead>\n  <tbody>\n    <tr>\n      <th>0</th>\n      <td>1</td>\n      <td>Wii Sports</td>\n      <td>Wii</td>\n      <td>2006.0</td>\n      <td>Sports</td>\n      <td>Nintendo</td>\n      <td>41.49</td>\n      <td>29.02</td>\n      <td>3.77</td>\n      <td>8.46</td>\n      <td>82.74</td>\n    </tr>\n    <tr>\n      <th>1</th>\n      <td>2</td>\n      <td>Super Mario Bros.</td>\n      <td>NES</td>\n      <td>1985.0</td>\n      <td>Platform</td>\n      <td>Nintendo</td>\n      <td>29.08</td>\n      <td>3.58</td>\n      <td>6.81</td>\n      <td>0.77</td>\n      <td>40.24</td>\n    </tr>\n    <tr>\n      <th>2</th>\n      <td>3</td>\n      <td>Mario Kart Wii</td>\n      <td>Wii</td>\n      <td>2008.0</td>\n      <td>Racing</td>\n      <td>Nintendo</td>\n      <td>15.85</td>\n      <td>12.88</td>\n      <td>3.79</td>\n      <td>3.31</td>\n      <td>35.82</td>\n    </tr>\n    <tr>\n      <th>3</th>\n      <td>4</td>\n      <td>Wii Sports Resort</td>\n      <td>Wii</td>\n      <td>2009.0</td>\n      <td>Sports</td>\n      <td>Nintendo</td>\n      <td>15.75</td>\n      <td>11.01</td>\n      <td>3.28</td>\n      <td>2.96</td>\n      <td>33.00</td>\n    </tr>\n    <tr>\n      <th>4</th>\n      <td>5</td>\n      <td>Pokemon Red/Pokemon Blue</td>\n      <td>GB</td>\n      <td>1996.0</td>\n      <td>Role-Playing</td>\n      <td>Nintendo</td>\n      <td>11.27</td>\n      <td>8.89</td>\n      <td>10.22</td>\n      <td>1.00</td>\n      <td>31.37</td>\n    </tr>\n  </tbody>\n</table>\n</div>"
     },
     "metadata": {},
     "execution_count": 2
    }
   ],
   "source": [
    "df = pd.read_csv('vgsales.csv')\n",
    "df.head()"
   ]
  },
  {
   "source": [
    "### 1. Which company is the most common video game publisher?"
   ],
   "cell_type": "markdown",
   "metadata": {}
  },
  {
   "cell_type": "code",
   "execution_count": 3,
   "metadata": {},
   "outputs": [
    {
     "output_type": "execute_result",
     "data": {
      "text/plain": [
       "'Electronic Arts'"
      ]
     },
     "metadata": {},
     "execution_count": 3
    }
   ],
   "source": [
    "most_common_publisher = df['Publisher'].mode().item()\n",
    "most_common_publisher"
   ]
  },
  {
   "source": [
    "### 2. What’s the most common platform?"
   ],
   "cell_type": "markdown",
   "metadata": {}
  },
  {
   "cell_type": "code",
   "execution_count": 4,
   "metadata": {},
   "outputs": [
    {
     "output_type": "execute_result",
     "data": {
      "text/plain": [
       "'DS'"
      ]
     },
     "metadata": {},
     "execution_count": 4
    }
   ],
   "source": [
    "most_common_platform = df['Platform'].mode().item()\n",
    "most_common_platform"
   ]
  },
  {
   "source": [
    "### 3. What about the most common genre?"
   ],
   "cell_type": "markdown",
   "metadata": {}
  },
  {
   "cell_type": "code",
   "execution_count": 5,
   "metadata": {},
   "outputs": [
    {
     "output_type": "execute_result",
     "data": {
      "text/plain": [
       "'Action'"
      ]
     },
     "metadata": {},
     "execution_count": 5
    }
   ],
   "source": [
    "most_common_genre = df['Genre'].mode().item()\n",
    "most_common_genre"
   ]
  },
  {
   "source": [
    "### 4. What are the top 20 highest grossing games?"
   ],
   "cell_type": "markdown",
   "metadata": {}
  },
  {
   "cell_type": "code",
   "execution_count": 6,
   "metadata": {},
   "outputs": [
    {
     "output_type": "execute_result",
     "data": {
      "text/plain": [
       "    Rank                                          Name Platform    Year  \\\n",
       "0      1                                    Wii Sports      Wii  2006.0   \n",
       "1      2                             Super Mario Bros.      NES  1985.0   \n",
       "2      3                                Mario Kart Wii      Wii  2008.0   \n",
       "3      4                             Wii Sports Resort      Wii  2009.0   \n",
       "4      5                      Pokemon Red/Pokemon Blue       GB  1996.0   \n",
       "5      6                                        Tetris       GB  1989.0   \n",
       "6      7                         New Super Mario Bros.       DS  2006.0   \n",
       "7      8                                      Wii Play      Wii  2006.0   \n",
       "8      9                     New Super Mario Bros. Wii      Wii  2009.0   \n",
       "9     10                                     Duck Hunt      NES  1984.0   \n",
       "10    11                                    Nintendogs       DS  2005.0   \n",
       "11    12                                 Mario Kart DS       DS  2005.0   \n",
       "12    13                   Pokemon Gold/Pokemon Silver       GB  1999.0   \n",
       "13    14                                       Wii Fit      Wii  2007.0   \n",
       "14    15                                  Wii Fit Plus      Wii  2009.0   \n",
       "15    16                            Kinect Adventures!     X360  2010.0   \n",
       "16    17                            Grand Theft Auto V      PS3  2013.0   \n",
       "17    18                 Grand Theft Auto: San Andreas      PS2  2004.0   \n",
       "18    19                             Super Mario World     SNES  1990.0   \n",
       "19    20  Brain Age: Train Your Brain in Minutes a Day       DS  2005.0   \n",
       "\n",
       "           Genre               Publisher  NA_Sales  EU_Sales  JP_Sales  \\\n",
       "0         Sports                Nintendo     41.49     29.02      3.77   \n",
       "1       Platform                Nintendo     29.08      3.58      6.81   \n",
       "2         Racing                Nintendo     15.85     12.88      3.79   \n",
       "3         Sports                Nintendo     15.75     11.01      3.28   \n",
       "4   Role-Playing                Nintendo     11.27      8.89     10.22   \n",
       "5         Puzzle                Nintendo     23.20      2.26      4.22   \n",
       "6       Platform                Nintendo     11.38      9.23      6.50   \n",
       "7           Misc                Nintendo     14.03      9.20      2.93   \n",
       "8       Platform                Nintendo     14.59      7.06      4.70   \n",
       "9        Shooter                Nintendo     26.93      0.63      0.28   \n",
       "10    Simulation                Nintendo      9.07     11.00      1.93   \n",
       "11        Racing                Nintendo      9.81      7.57      4.13   \n",
       "12  Role-Playing                Nintendo      9.00      6.18      7.20   \n",
       "13        Sports                Nintendo      8.94      8.03      3.60   \n",
       "14        Sports                Nintendo      9.09      8.59      2.53   \n",
       "15          Misc  Microsoft Game Studios     14.97      4.94      0.24   \n",
       "16        Action    Take-Two Interactive      7.01      9.27      0.97   \n",
       "17        Action    Take-Two Interactive      9.43      0.40      0.41   \n",
       "18      Platform                Nintendo     12.78      3.75      3.54   \n",
       "19          Misc                Nintendo      4.75      9.26      4.16   \n",
       "\n",
       "    Other_Sales  Global_Sales  \n",
       "0          8.46         82.74  \n",
       "1          0.77         40.24  \n",
       "2          3.31         35.82  \n",
       "3          2.96         33.00  \n",
       "4          1.00         31.37  \n",
       "5          0.58         30.26  \n",
       "6          2.90         30.01  \n",
       "7          2.85         29.02  \n",
       "8          2.26         28.62  \n",
       "9          0.47         28.31  \n",
       "10         2.75         24.76  \n",
       "11         1.92         23.42  \n",
       "12         0.71         23.10  \n",
       "13         2.15         22.72  \n",
       "14         1.79         22.00  \n",
       "15         1.67         21.82  \n",
       "16         4.14         21.40  \n",
       "17        10.57         20.81  \n",
       "18         0.55         20.61  \n",
       "19         2.05         20.22  "
      ],
      "text/html": "<div>\n<style scoped>\n    .dataframe tbody tr th:only-of-type {\n        vertical-align: middle;\n    }\n\n    .dataframe tbody tr th {\n        vertical-align: top;\n    }\n\n    .dataframe thead th {\n        text-align: right;\n    }\n</style>\n<table border=\"1\" class=\"dataframe\">\n  <thead>\n    <tr style=\"text-align: right;\">\n      <th></th>\n      <th>Rank</th>\n      <th>Name</th>\n      <th>Platform</th>\n      <th>Year</th>\n      <th>Genre</th>\n      <th>Publisher</th>\n      <th>NA_Sales</th>\n      <th>EU_Sales</th>\n      <th>JP_Sales</th>\n      <th>Other_Sales</th>\n      <th>Global_Sales</th>\n    </tr>\n  </thead>\n  <tbody>\n    <tr>\n      <th>0</th>\n      <td>1</td>\n      <td>Wii Sports</td>\n      <td>Wii</td>\n      <td>2006.0</td>\n      <td>Sports</td>\n      <td>Nintendo</td>\n      <td>41.49</td>\n      <td>29.02</td>\n      <td>3.77</td>\n      <td>8.46</td>\n      <td>82.74</td>\n    </tr>\n    <tr>\n      <th>1</th>\n      <td>2</td>\n      <td>Super Mario Bros.</td>\n      <td>NES</td>\n      <td>1985.0</td>\n      <td>Platform</td>\n      <td>Nintendo</td>\n      <td>29.08</td>\n      <td>3.58</td>\n      <td>6.81</td>\n      <td>0.77</td>\n      <td>40.24</td>\n    </tr>\n    <tr>\n      <th>2</th>\n      <td>3</td>\n      <td>Mario Kart Wii</td>\n      <td>Wii</td>\n      <td>2008.0</td>\n      <td>Racing</td>\n      <td>Nintendo</td>\n      <td>15.85</td>\n      <td>12.88</td>\n      <td>3.79</td>\n      <td>3.31</td>\n      <td>35.82</td>\n    </tr>\n    <tr>\n      <th>3</th>\n      <td>4</td>\n      <td>Wii Sports Resort</td>\n      <td>Wii</td>\n      <td>2009.0</td>\n      <td>Sports</td>\n      <td>Nintendo</td>\n      <td>15.75</td>\n      <td>11.01</td>\n      <td>3.28</td>\n      <td>2.96</td>\n      <td>33.00</td>\n    </tr>\n    <tr>\n      <th>4</th>\n      <td>5</td>\n      <td>Pokemon Red/Pokemon Blue</td>\n      <td>GB</td>\n      <td>1996.0</td>\n      <td>Role-Playing</td>\n      <td>Nintendo</td>\n      <td>11.27</td>\n      <td>8.89</td>\n      <td>10.22</td>\n      <td>1.00</td>\n      <td>31.37</td>\n    </tr>\n    <tr>\n      <th>5</th>\n      <td>6</td>\n      <td>Tetris</td>\n      <td>GB</td>\n      <td>1989.0</td>\n      <td>Puzzle</td>\n      <td>Nintendo</td>\n      <td>23.20</td>\n      <td>2.26</td>\n      <td>4.22</td>\n      <td>0.58</td>\n      <td>30.26</td>\n    </tr>\n    <tr>\n      <th>6</th>\n      <td>7</td>\n      <td>New Super Mario Bros.</td>\n      <td>DS</td>\n      <td>2006.0</td>\n      <td>Platform</td>\n      <td>Nintendo</td>\n      <td>11.38</td>\n      <td>9.23</td>\n      <td>6.50</td>\n      <td>2.90</td>\n      <td>30.01</td>\n    </tr>\n    <tr>\n      <th>7</th>\n      <td>8</td>\n      <td>Wii Play</td>\n      <td>Wii</td>\n      <td>2006.0</td>\n      <td>Misc</td>\n      <td>Nintendo</td>\n      <td>14.03</td>\n      <td>9.20</td>\n      <td>2.93</td>\n      <td>2.85</td>\n      <td>29.02</td>\n    </tr>\n    <tr>\n      <th>8</th>\n      <td>9</td>\n      <td>New Super Mario Bros. Wii</td>\n      <td>Wii</td>\n      <td>2009.0</td>\n      <td>Platform</td>\n      <td>Nintendo</td>\n      <td>14.59</td>\n      <td>7.06</td>\n      <td>4.70</td>\n      <td>2.26</td>\n      <td>28.62</td>\n    </tr>\n    <tr>\n      <th>9</th>\n      <td>10</td>\n      <td>Duck Hunt</td>\n      <td>NES</td>\n      <td>1984.0</td>\n      <td>Shooter</td>\n      <td>Nintendo</td>\n      <td>26.93</td>\n      <td>0.63</td>\n      <td>0.28</td>\n      <td>0.47</td>\n      <td>28.31</td>\n    </tr>\n    <tr>\n      <th>10</th>\n      <td>11</td>\n      <td>Nintendogs</td>\n      <td>DS</td>\n      <td>2005.0</td>\n      <td>Simulation</td>\n      <td>Nintendo</td>\n      <td>9.07</td>\n      <td>11.00</td>\n      <td>1.93</td>\n      <td>2.75</td>\n      <td>24.76</td>\n    </tr>\n    <tr>\n      <th>11</th>\n      <td>12</td>\n      <td>Mario Kart DS</td>\n      <td>DS</td>\n      <td>2005.0</td>\n      <td>Racing</td>\n      <td>Nintendo</td>\n      <td>9.81</td>\n      <td>7.57</td>\n      <td>4.13</td>\n      <td>1.92</td>\n      <td>23.42</td>\n    </tr>\n    <tr>\n      <th>12</th>\n      <td>13</td>\n      <td>Pokemon Gold/Pokemon Silver</td>\n      <td>GB</td>\n      <td>1999.0</td>\n      <td>Role-Playing</td>\n      <td>Nintendo</td>\n      <td>9.00</td>\n      <td>6.18</td>\n      <td>7.20</td>\n      <td>0.71</td>\n      <td>23.10</td>\n    </tr>\n    <tr>\n      <th>13</th>\n      <td>14</td>\n      <td>Wii Fit</td>\n      <td>Wii</td>\n      <td>2007.0</td>\n      <td>Sports</td>\n      <td>Nintendo</td>\n      <td>8.94</td>\n      <td>8.03</td>\n      <td>3.60</td>\n      <td>2.15</td>\n      <td>22.72</td>\n    </tr>\n    <tr>\n      <th>14</th>\n      <td>15</td>\n      <td>Wii Fit Plus</td>\n      <td>Wii</td>\n      <td>2009.0</td>\n      <td>Sports</td>\n      <td>Nintendo</td>\n      <td>9.09</td>\n      <td>8.59</td>\n      <td>2.53</td>\n      <td>1.79</td>\n      <td>22.00</td>\n    </tr>\n    <tr>\n      <th>15</th>\n      <td>16</td>\n      <td>Kinect Adventures!</td>\n      <td>X360</td>\n      <td>2010.0</td>\n      <td>Misc</td>\n      <td>Microsoft Game Studios</td>\n      <td>14.97</td>\n      <td>4.94</td>\n      <td>0.24</td>\n      <td>1.67</td>\n      <td>21.82</td>\n    </tr>\n    <tr>\n      <th>16</th>\n      <td>17</td>\n      <td>Grand Theft Auto V</td>\n      <td>PS3</td>\n      <td>2013.0</td>\n      <td>Action</td>\n      <td>Take-Two Interactive</td>\n      <td>7.01</td>\n      <td>9.27</td>\n      <td>0.97</td>\n      <td>4.14</td>\n      <td>21.40</td>\n    </tr>\n    <tr>\n      <th>17</th>\n      <td>18</td>\n      <td>Grand Theft Auto: San Andreas</td>\n      <td>PS2</td>\n      <td>2004.0</td>\n      <td>Action</td>\n      <td>Take-Two Interactive</td>\n      <td>9.43</td>\n      <td>0.40</td>\n      <td>0.41</td>\n      <td>10.57</td>\n      <td>20.81</td>\n    </tr>\n    <tr>\n      <th>18</th>\n      <td>19</td>\n      <td>Super Mario World</td>\n      <td>SNES</td>\n      <td>1990.0</td>\n      <td>Platform</td>\n      <td>Nintendo</td>\n      <td>12.78</td>\n      <td>3.75</td>\n      <td>3.54</td>\n      <td>0.55</td>\n      <td>20.61</td>\n    </tr>\n    <tr>\n      <th>19</th>\n      <td>20</td>\n      <td>Brain Age: Train Your Brain in Minutes a Day</td>\n      <td>DS</td>\n      <td>2005.0</td>\n      <td>Misc</td>\n      <td>Nintendo</td>\n      <td>4.75</td>\n      <td>9.26</td>\n      <td>4.16</td>\n      <td>2.05</td>\n      <td>20.22</td>\n    </tr>\n  </tbody>\n</table>\n</div>"
     },
     "metadata": {},
     "execution_count": 6
    }
   ],
   "source": [
    "\n",
    "top_twenty_highest_grossing_games = df.sort_values(by=\"Global_Sales\", ascending=False).head(20)\n",
    "top_twenty_highest_grossing_games"
   ]
  },
  {
   "source": [
    "### 5. For North American video game sales, what’s the median?"
   ],
   "cell_type": "markdown",
   "metadata": {}
  },
  {
   "source": [
    "na_median_sales = df['NA_Sales'].median()\n",
    "na_median_sales"
   ],
   "cell_type": "code",
   "metadata": {},
   "execution_count": 7,
   "outputs": [
    {
     "output_type": "execute_result",
     "data": {
      "text/plain": [
       "0.08"
      ]
     },
     "metadata": {},
     "execution_count": 7
    }
   ]
  },
  {
   "source": [
    "#### 5a. Provide a secondary output showing ten games surrounding the median sales output.  \n",
    "> assume that games with same median value are sorted in descending order"
   ],
   "cell_type": "markdown",
   "metadata": {}
  },
  {
   "source": [
    "na_median_games = df[df['NA_Sales'] == na_median_sales]\n",
    "na_median_mid = round(len(df[df['NA_Sales'] == na_median_sales]) / 2)\n",
    "ten_median_na_sellers = na_median_games.iloc[na_median_mid-5: na_median_mid+5]\n",
    "ten_median_na_seller_names = list(ten_median_na_sellers.Name.values)\n",
    "ten_median_na_sellers\n"
   ],
   "cell_type": "code",
   "metadata": {},
   "execution_count": 8,
   "outputs": [
    {
     "output_type": "execute_result",
     "data": {
      "text/plain": [
       "        Rank                                Name Platform    Year  \\\n",
       "9934    9936                    Turok: Evolution      GBA  2002.0   \n",
       "9957    9959                            Deadpool     XOne  2015.0   \n",
       "9996    9998          GT Advance 2: Rally Racing      GBA  2001.0   \n",
       "10000  10002                      A Witch's Tale       DS  2009.0   \n",
       "10012  10014                   Nickelodeon Dance     X360  2011.0   \n",
       "10020  10022            Phantasy Star Collection      GBA  2002.0   \n",
       "10022  10024               LEGO Knights' Kingdom      GBA  2004.0   \n",
       "10024  10026  Family Game Night 4: The Game Show      PS3  2011.0   \n",
       "10026  10028                        NBA Jam 2002      GBA  2002.0   \n",
       "10029  10031            Tony Hawk's Pro Skater 5     XOne  2015.0   \n",
       "\n",
       "              Genre              Publisher  NA_Sales  EU_Sales  JP_Sales  \\\n",
       "9934        Shooter  Acclaim Entertainment      0.08      0.03      0.00   \n",
       "9957         Action             Activision      0.08      0.03      0.00   \n",
       "9996         Racing                    THQ      0.08      0.03      0.00   \n",
       "10000  Role-Playing   Nippon Ichi Software      0.08      0.00      0.03   \n",
       "10012          Misc   Take-Two Interactive      0.08      0.02      0.00   \n",
       "10020  Role-Playing                  Atari      0.08      0.03      0.00   \n",
       "10022        Action                    THQ      0.08      0.03      0.00   \n",
       "10024          Misc        Electronic Arts      0.08      0.02      0.00   \n",
       "10026        Sports  Acclaim Entertainment      0.08      0.03      0.00   \n",
       "10029        Sports             Activision      0.08      0.02      0.00   \n",
       "\n",
       "       Other_Sales  Global_Sales  \n",
       "9934          0.00          0.12  \n",
       "9957          0.01          0.12  \n",
       "9996          0.00          0.11  \n",
       "10000         0.01          0.11  \n",
       "10012         0.01          0.11  \n",
       "10020         0.00          0.11  \n",
       "10022         0.00          0.11  \n",
       "10024         0.01          0.11  \n",
       "10026         0.00          0.11  \n",
       "10029         0.01          0.11  "
      ],
      "text/html": "<div>\n<style scoped>\n    .dataframe tbody tr th:only-of-type {\n        vertical-align: middle;\n    }\n\n    .dataframe tbody tr th {\n        vertical-align: top;\n    }\n\n    .dataframe thead th {\n        text-align: right;\n    }\n</style>\n<table border=\"1\" class=\"dataframe\">\n  <thead>\n    <tr style=\"text-align: right;\">\n      <th></th>\n      <th>Rank</th>\n      <th>Name</th>\n      <th>Platform</th>\n      <th>Year</th>\n      <th>Genre</th>\n      <th>Publisher</th>\n      <th>NA_Sales</th>\n      <th>EU_Sales</th>\n      <th>JP_Sales</th>\n      <th>Other_Sales</th>\n      <th>Global_Sales</th>\n    </tr>\n  </thead>\n  <tbody>\n    <tr>\n      <th>9934</th>\n      <td>9936</td>\n      <td>Turok: Evolution</td>\n      <td>GBA</td>\n      <td>2002.0</td>\n      <td>Shooter</td>\n      <td>Acclaim Entertainment</td>\n      <td>0.08</td>\n      <td>0.03</td>\n      <td>0.00</td>\n      <td>0.00</td>\n      <td>0.12</td>\n    </tr>\n    <tr>\n      <th>9957</th>\n      <td>9959</td>\n      <td>Deadpool</td>\n      <td>XOne</td>\n      <td>2015.0</td>\n      <td>Action</td>\n      <td>Activision</td>\n      <td>0.08</td>\n      <td>0.03</td>\n      <td>0.00</td>\n      <td>0.01</td>\n      <td>0.12</td>\n    </tr>\n    <tr>\n      <th>9996</th>\n      <td>9998</td>\n      <td>GT Advance 2: Rally Racing</td>\n      <td>GBA</td>\n      <td>2001.0</td>\n      <td>Racing</td>\n      <td>THQ</td>\n      <td>0.08</td>\n      <td>0.03</td>\n      <td>0.00</td>\n      <td>0.00</td>\n      <td>0.11</td>\n    </tr>\n    <tr>\n      <th>10000</th>\n      <td>10002</td>\n      <td>A Witch's Tale</td>\n      <td>DS</td>\n      <td>2009.0</td>\n      <td>Role-Playing</td>\n      <td>Nippon Ichi Software</td>\n      <td>0.08</td>\n      <td>0.00</td>\n      <td>0.03</td>\n      <td>0.01</td>\n      <td>0.11</td>\n    </tr>\n    <tr>\n      <th>10012</th>\n      <td>10014</td>\n      <td>Nickelodeon Dance</td>\n      <td>X360</td>\n      <td>2011.0</td>\n      <td>Misc</td>\n      <td>Take-Two Interactive</td>\n      <td>0.08</td>\n      <td>0.02</td>\n      <td>0.00</td>\n      <td>0.01</td>\n      <td>0.11</td>\n    </tr>\n    <tr>\n      <th>10020</th>\n      <td>10022</td>\n      <td>Phantasy Star Collection</td>\n      <td>GBA</td>\n      <td>2002.0</td>\n      <td>Role-Playing</td>\n      <td>Atari</td>\n      <td>0.08</td>\n      <td>0.03</td>\n      <td>0.00</td>\n      <td>0.00</td>\n      <td>0.11</td>\n    </tr>\n    <tr>\n      <th>10022</th>\n      <td>10024</td>\n      <td>LEGO Knights' Kingdom</td>\n      <td>GBA</td>\n      <td>2004.0</td>\n      <td>Action</td>\n      <td>THQ</td>\n      <td>0.08</td>\n      <td>0.03</td>\n      <td>0.00</td>\n      <td>0.00</td>\n      <td>0.11</td>\n    </tr>\n    <tr>\n      <th>10024</th>\n      <td>10026</td>\n      <td>Family Game Night 4: The Game Show</td>\n      <td>PS3</td>\n      <td>2011.0</td>\n      <td>Misc</td>\n      <td>Electronic Arts</td>\n      <td>0.08</td>\n      <td>0.02</td>\n      <td>0.00</td>\n      <td>0.01</td>\n      <td>0.11</td>\n    </tr>\n    <tr>\n      <th>10026</th>\n      <td>10028</td>\n      <td>NBA Jam 2002</td>\n      <td>GBA</td>\n      <td>2002.0</td>\n      <td>Sports</td>\n      <td>Acclaim Entertainment</td>\n      <td>0.08</td>\n      <td>0.03</td>\n      <td>0.00</td>\n      <td>0.00</td>\n      <td>0.11</td>\n    </tr>\n    <tr>\n      <th>10029</th>\n      <td>10031</td>\n      <td>Tony Hawk's Pro Skater 5</td>\n      <td>XOne</td>\n      <td>2015.0</td>\n      <td>Sports</td>\n      <td>Activision</td>\n      <td>0.08</td>\n      <td>0.02</td>\n      <td>0.00</td>\n      <td>0.01</td>\n      <td>0.11</td>\n    </tr>\n  </tbody>\n</table>\n</div>"
     },
     "metadata": {},
     "execution_count": 8
    }
   ]
  },
  {
   "source": [
    "### 6. For the top-selling game of all time, how many standard deviations above/below the mean are its sales for North America?"
   ],
   "cell_type": "markdown",
   "metadata": {}
  },
  {
   "cell_type": "code",
   "execution_count": 9,
   "metadata": {},
   "outputs": [
    {
     "output_type": "execute_result",
     "data": {
      "text/plain": [
       "50.47898767479108"
      ]
     },
     "metadata": {},
     "execution_count": 9
    }
   ],
   "source": [
    "top_game_na_sales = df.iloc[0].NA_Sales\n",
    "top_to_mean = top_game_na_sales - df[\"NA_Sales\"].mean()\n",
    "std_away = top_to_mean / df[\"NA_Sales\"].std()\n",
    "std_away"
   ]
  },
  {
   "source": [
    "### 7. The Nintendo Wii seems to have outdone itself with games. How does its average number of sales compare with all of the other platforms?"
   ],
   "cell_type": "markdown",
   "metadata": {}
  },
  {
   "cell_type": "code",
   "execution_count": 10,
   "metadata": {},
   "outputs": [
    {
     "output_type": "execute_result",
     "data": {
      "text/plain": [
       "9.0"
      ]
     },
     "metadata": {},
     "execution_count": 10
    }
   ],
   "source": [
    "wii_rank = df.groupby(\"Platform\")[\"Global_Sales\"].mean().sort_values(ascending=False).rank(ascending=False)[\"Wii\"]\n",
    "wii_rank"
   ]
  },
  {
   "source": [
    "### 8. Come up with 3 more questions that can be answered with this data set.\n",
    "\n",
    "#### 8a. What is the 10th best selling video game?"
   ],
   "cell_type": "markdown",
   "metadata": {}
  },
  {
   "cell_type": "code",
   "execution_count": 11,
   "metadata": {},
   "outputs": [
    {
     "output_type": "execute_result",
     "data": {
      "text/plain": [
       "'Duck Hunt'"
      ]
     },
     "metadata": {},
     "execution_count": 11
    }
   ],
   "source": [
    "tenth_ranked = df.loc[df[\"Rank\"] == 10][\"Name\"].item()\n",
    "tenth_ranked"
   ]
  },
  {
   "source": [
    "8b. What year was World of Warcraft released?"
   ],
   "cell_type": "markdown",
   "metadata": {}
  },
  {
   "cell_type": "code",
   "execution_count": 12,
   "metadata": {},
   "outputs": [
    {
     "output_type": "execute_result",
     "data": {
      "text/plain": [
       "2004.0"
      ]
     },
     "metadata": {},
     "execution_count": 12
    }
   ],
   "source": [
    "wow_release = df.loc[df[\"Name\"] == \"World of Warcraft\"][\"Year\"].item()\n",
    "wow_release"
   ]
  },
  {
   "source": [
    "#### 8c. How many games has Activision released?"
   ],
   "cell_type": "markdown",
   "metadata": {}
  },
  {
   "cell_type": "code",
   "execution_count": 13,
   "metadata": {},
   "outputs": [
    {
     "output_type": "execute_result",
     "data": {
      "text/plain": [
       "975"
      ]
     },
     "metadata": {},
     "execution_count": 13
    }
   ],
   "source": [
    "activision_count = (df.Publisher == \"Activision\").sum()\n",
    "activision_count"
   ]
  },
  {
   "source": [
    "## Tests"
   ],
   "cell_type": "markdown",
   "metadata": {}
  },
  {
   "cell_type": "code",
   "execution_count": 14,
   "metadata": {},
   "outputs": [
    {
     "output_type": "stream",
     "name": "stdout",
     "text": [
      "Success!!!\n"
     ]
    }
   ],
   "source": [
    "def test():\n",
    "\n",
    "    def assert_equal(actual,expected):\n",
    "        assert actual == expected, f\"Expected {expected} but got {actual}\"\n",
    "\n",
    "    assert_equal(most_common_publisher, 'Electronic Arts')\n",
    "    assert_equal(most_common_platform, 'DS')\n",
    "    assert_equal(most_common_genre, 'Action')\n",
    "    assert_equal(top_twenty_highest_grossing_games.iloc[0].Name, 'Wii Sports')\n",
    "    assert_equal(top_twenty_highest_grossing_games.iloc[19].Name, 'Brain Age: Train Your Brain in Minutes a Day')\n",
    "    assert_equal(na_median_sales, 0.08)\n",
    "    assert_equal(ten_median_na_seller_names, \n",
    "    ['Turok: Evolution', 'Deadpool', 'GT Advance 2: Rally Racing',\n",
    "       \"A Witch's Tale\", 'Nickelodeon Dance', 'Phantasy Star Collection',\n",
    "       \"LEGO Knights' Kingdom\", 'Family Game Night 4: The Game Show',\n",
    "       'NBA Jam 2002', \"Tony Hawk's Pro Skater 5\"])\n",
    "    assert_equal(std_away, 50.47898767479108)\n",
    "    assert_equal(wii_rank, 9) \n",
    "\n",
    "    print(\"Success!!!\")\n",
    "\n",
    "test()"
   ]
  }
 ]
}